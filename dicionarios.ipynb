{
  "nbformat": 4,
  "nbformat_minor": 0,
  "metadata": {
    "colab": {
      "provenance": [],
      "authorship_tag": "ABX9TyMdruf5ACFecHHEu37lhF6K",
      "include_colab_link": true
    },
    "kernelspec": {
      "name": "python3",
      "display_name": "Python 3"
    },
    "language_info": {
      "name": "python"
    }
  },
  "cells": [
    {
      "cell_type": "markdown",
      "metadata": {
        "id": "view-in-github",
        "colab_type": "text"
      },
      "source": [
        "<a href=\"https://colab.research.google.com/github/rkluiza/exercicios-python/blob/main/dicionarios.ipynb\" target=\"_parent\"><img src=\"https://colab.research.google.com/assets/colab-badge.svg\" alt=\"Open In Colab\"/></a>"
      ]
    },
    {
      "cell_type": "markdown",
      "source": [
        "EXERCICIO 1\n",
        "\n"
      ],
      "metadata": {
        "id": "-vlHMFXsS9-O"
      }
    },
    {
      "cell_type": "code",
      "execution_count": null,
      "metadata": {
        "id": "B-oDyaRxS3AY"
      },
      "outputs": [],
      "source": [
        "tel = {'Romi' : 2334423423 , 'Luiz': 56363636, 'iva' : 5894385943, 'lau' : 57498353758, 'theo': 3478234723947}\n",
        "\n",
        "ent = input()\n",
        "print(tel.get(ent, 'não encontrado a chave'))\n"
      ]
    },
    {
      "cell_type": "markdown",
      "source": [
        "EXERCICIO 2"
      ],
      "metadata": {
        "id": "AKrNeFv6YOU_"
      }
    },
    {
      "cell_type": "code",
      "source": [
        "dic={}\n",
        "lista = []\n",
        "\n",
        "for x in range (0,2):\n",
        "  nome = input('Digite seu nome')\n",
        "  telefone = input('Digite seu número')\n",
        "\n",
        "  dic['nome'] = nome\n",
        "  dic['tel'] = telefone\n",
        "\n",
        "  lista.append(dic.copy())\n",
        "\n",
        "print(lista)\n"
      ],
      "metadata": {
        "id": "vBw9CoYmYQFg"
      },
      "execution_count": null,
      "outputs": []
    },
    {
      "cell_type": "code",
      "source": [
        "#lista dentro de dicionario\n",
        "\n",
        "dic={}\n",
        "lista = []\n",
        "\n",
        "for x in range(0,3):\n",
        "  n = input()\n",
        "  a = input()\n",
        "  f = input()\n",
        "  t = input()\n",
        "\n",
        "  dic['nome']=n\n",
        "  dic['telefone']=a\n",
        "  dic['cpf']=f\n",
        "  dic['endereco']=t\n",
        "\n",
        "  lista.append(dic.copy()) #adicionar o dicionario dentro de uma lista, .copy pra fazer uma copia da lista e não alterar os dados anterioresw do ultimo\n",
        "\n",
        "print(lista)\n",
        "print(lista[1]['nome']) #print da lista especifica e da chave\n"
      ],
      "metadata": {
        "id": "8c5bDEBMNOrA"
      },
      "execution_count": null,
      "outputs": []
    },
    {
      "cell_type": "code",
      "source": [
        "for x in lista:\n",
        "    for chave, valor in x.items():\n",
        "      print(f'{chave}: {valor}') #percorrer os itens de um dicionario dentro de uma lista"
      ],
      "metadata": {
        "id": "i6NlPE_dQeto"
      },
      "execution_count": null,
      "outputs": []
    },
    {
      "cell_type": "code",
      "source": [
        "dic = {}\n",
        "\n",
        "nome = input()\n",
        "dic[nome]={} #dicionario dentro de outro dicionario\n",
        "\n",
        "\n",
        "dic['notas']=[] #lista dentro de um dicionario\n",
        "\n"
      ],
      "metadata": {
        "id": "44MKGsd9XIIH"
      },
      "execution_count": null,
      "outputs": []
    },
    {
      "cell_type": "markdown",
      "source": [
        "EXERCICIO 3    INCOMPLETO"
      ],
      "metadata": {
        "id": "lxF4RaXTRfv9"
      }
    },
    {
      "cell_type": "code",
      "source": [
        "dic={}\n",
        "lista = []\n",
        "\n",
        "for x in range (0,2):\n",
        "  nome = input('Digite seu nome')\n",
        "  telefone = input('Digite seu número')\n",
        "\n",
        "  dic['nome'] = nome\n",
        "  dic['tel'] = telefone\n",
        "\n",
        "  lista.append(dic.copy())\n",
        "\n",
        "\n",
        "print(lista)\n"
      ],
      "metadata": {
        "id": "UVs7Qao0XHT4"
      },
      "execution_count": null,
      "outputs": []
    },
    {
      "cell_type": "markdown",
      "source": [
        "11.1 EXERCICIOS DICIONÁRIO"
      ],
      "metadata": {
        "id": "xUT7O5hdPo8Y"
      }
    },
    {
      "cell_type": "code",
      "source": [
        "produto1= {'nome':'produto1', 'tipo':'categoriaA', 'valor':'50.5','fornecedor':'ABCD',\n",
        "}\n",
        "\n",
        "produto1['valor']=99.98 #alterar o valor exercicio1\n",
        "\n",
        "print(produto1)\n",
        "\n",
        "for chave in produto1.keys():\n",
        "  print(f'{chave}') #imprimir só as chaves do dicionario exercicio2.1\n",
        "\n",
        "for valor in produto1.values():\n",
        "  print(f'{valor}') #imprimir só os valores exercicio2.2\n",
        "\n",
        "for x,y in produto1.items():\n",
        "  print(f'{x}: {y}') #imprimir os dois exercicio2.3\n"
      ],
      "metadata": {
        "id": "XC2ime06QFSW"
      },
      "execution_count": null,
      "outputs": []
    },
    {
      "cell_type": "markdown",
      "source": [
        "EXERCICIO 3"
      ],
      "metadata": {
        "id": "CjRg10VPVKZi"
      }
    },
    {
      "cell_type": "code",
      "source": [
        "dic= {'nome':'lulu', 'idade':45, 'telefone':9880350690,'endereço':'Bom Jesus',\n",
        "}\n",
        "\n",
        "print(dic['nome']) #imprimir valor"
      ],
      "metadata": {
        "id": "BIDjrQ8pVM3F"
      },
      "execution_count": null,
      "outputs": []
    },
    {
      "cell_type": "markdown",
      "source": [
        "EXERCICIO 4"
      ],
      "metadata": {
        "id": "svq4sqhMVsMr"
      }
    },
    {
      "cell_type": "code",
      "source": [
        "dic= {'nome':'lulu', 'idade':45, 'telefone':9880350690,'endereço':'Bom Jesus',\n",
        "}\n",
        "\n",
        "print(dic) #imprimir valores"
      ],
      "metadata": {
        "id": "ZFutQvNvVt6x"
      },
      "execution_count": null,
      "outputs": []
    },
    {
      "cell_type": "markdown",
      "source": [
        "DESAFIO DICIONÁRIO"
      ],
      "metadata": {
        "id": "EXNJC_U_WPao"
      }
    },
    {
      "cell_type": "code",
      "source": [
        "estoqued = {}\n",
        "\n",
        "entrada = 10\n",
        "a = 1\n",
        "while (a!=0):\n",
        "  print('MENU')\n",
        "  print('0 - SAIR, 1 - ADICIONAR UM NOVO PRODUTO AO ESTOQUE, 2 - REMOVER UM PRODUTO DO ESTOQUE, 3 - ATUALIZAR A QUANTIDADE DE PRODUTO EM UM ESTOQUE, 4 - EXIBIR A LISTA DE PRODUTOS DISPONÍVEIS E SUAS QUANTIDADES')\n",
        "  entrada = int(input())\n",
        "\n",
        "  if (entrada==0):\n",
        "    a=0\n",
        "    print('PROGRAMA FINALIZADO')\n",
        "\n",
        "  if(entrada==1):\n",
        "    estoqued[input('nome do produto: ')] = input('quantidade do produto: ')\n",
        "    print(estoqued)\n",
        "\n",
        "  if(entrada==2):\n",
        "    chave = input('Digite o nome do produto que quer remover ')\n",
        "    if chave in estoqued:\n",
        "      print('A CHAVE EXISTE E FOI REMOVIDA')\n",
        "      del estoqued[chave]\n",
        "      print(estoqued)\n",
        "    else:\n",
        "      print('A CHAVE NÃO EXISTE')\n",
        "      print(estoqued)\n",
        "\n",
        "  if(entrada==3):\n",
        "    chave = input('Digite o nome do produto que quer alterar a quantidade ')\n",
        "    if chave in estoqued:\n",
        "      estoqued[chave] = input('Digite a nova quantidade')\n",
        "      print(estoqued)\n",
        "    else:\n",
        "      print('A CHAVE NÃO EXISTE')\n",
        "      print(estoqued)\n",
        "\n",
        "  if(entrada==4):\n",
        "    print(estoqued)\n"
      ],
      "metadata": {
        "id": "7gvsYGS-WReH"
      },
      "execution_count": null,
      "outputs": []
    },
    {
      "cell_type": "markdown",
      "source": [
        "12. DICIONARIOS PARTE 2 EXERCICIOS"
      ],
      "metadata": {
        "id": "9GjIal8XfR6S"
      }
    },
    {
      "cell_type": "code",
      "source": [
        "cad1 = {'nome': 'teste1', 'telefone': '000000000', 'cpf': '01010101010'}\n",
        "cad2 = {'nome': 'teste2', 'telefone': '111111111', 'cpf': '02020202020'}\n",
        "\n",
        "cadastro = []\n",
        "cadastro.append(cad1)\n",
        "cadastro.append(cad2)\n",
        "\n",
        "for i in cadastro:\n",
        "  for x in i.items():\n",
        "    print(x)            #percorrendo itens de um dicionario dentro de uma lista"
      ],
      "metadata": {
        "id": "nh1p0hRrfXs0"
      },
      "execution_count": null,
      "outputs": []
    },
    {
      "cell_type": "markdown",
      "source": [
        "exercicio 2"
      ],
      "metadata": {
        "id": "lJyHhvT5BG1X"
      }
    },
    {
      "cell_type": "code",
      "source": [
        "dicionario = {}\n",
        "lista = []\n",
        "\n",
        "for x in range (0,3):\n",
        "  nome = input('Digite seu nome')\n",
        "  telefone = input('Digite seu número')\n",
        "  cpf = input('Digite seu cpf')\n",
        "\n",
        "\n",
        "  dicionario['nome'] = nome\n",
        "  dicionario['tel'] = telefone\n",
        "  dicionario['cpf'] = cpf         #dicionario dentro de listas\n",
        "\n",
        "\n",
        "  lista.append(dicionario.copy()) #preenchendo cadastros\n",
        "\n",
        "\n",
        "print(lista)"
      ],
      "metadata": {
        "id": "1va3p6J2BMkJ"
      },
      "execution_count": null,
      "outputs": []
    },
    {
      "cell_type": "markdown",
      "source": [
        "exercicio 3"
      ],
      "metadata": {
        "id": "1mNbzg9YC1eO"
      }
    },
    {
      "cell_type": "code",
      "source": [
        "cadastro = {'nome':{'peso': '62', 'idade': '30', 'altura': '1.70'},\n",
        "            'nome2': {'idade' : '30', 'altura': '1.7'},\n",
        "            'nome3': {'nascimento': '01/05/1995'}\n",
        "            }\n",
        "\n",
        "for x,y in cadastro.items():\n",
        "  for i,a in y.items():\n",
        "    print(i +a)"
      ],
      "metadata": {
        "id": "sf97JEC5C3IG"
      },
      "execution_count": null,
      "outputs": []
    },
    {
      "cell_type": "markdown",
      "source": [
        "exercico 4"
      ],
      "metadata": {
        "id": "gRRuw3hsI_4B"
      }
    },
    {
      "cell_type": "code",
      "source": [
        "cadastro = {}\n",
        "\n",
        "for x in range(0,2):\n",
        "  cpf = input('Digite seu CPF')\n",
        "  cadastro[cpf] = {}\n",
        "\n",
        "  nome = input('Digite seu nome')\n",
        "  telefone = input('Digite seu telefone')\n",
        "  endereco = input('endereço')\n",
        "\n",
        "  cadastro[cpf]['nome'] = nome\n",
        "  cadastro[cpf]['telefone'] = telefone\n",
        "  cadastro[cpf]['endereço'] = endereco            #input de nome das chaves, com dicionarios como valores\n",
        "\n",
        "print(cadastro)\n"
      ],
      "metadata": {
        "id": "9jk_gz8YJDi4"
      },
      "execution_count": null,
      "outputs": []
    },
    {
      "cell_type": "markdown",
      "source": [
        "exercicio 5"
      ],
      "metadata": {
        "id": "NkDfBT9GNNy-"
      }
    },
    {
      "cell_type": "code",
      "source": [
        "cadastro = {}\n",
        "\n",
        "for x in range(0,2):\n",
        "  cpf = input('Digite seu CPF')\n",
        "  cadastro[cpf] = {}\n",
        "\n",
        "  nome = input('Digite seu nome')\n",
        "  telefone = input('Digite seu telefone')\n",
        "  endereco = input('endereço')\n",
        "\n",
        "  cadastro[cpf]['nome'] = nome\n",
        "  cadastro[cpf]['telefone'] = telefone\n",
        "  cadastro[cpf]['endereço'] = endereco            #input de nome das chaves, com dicionarios como valores\n",
        "\n",
        "print(cadastro)\n",
        "\n",
        "verif = input('Digite um cpf para verificar cadastro')\n",
        "if verif in cadastro:\n",
        "  print('EXISTE')                           #verificacao se uma chave existe dentro do dic\n",
        "  print(cadastro[verif])\n",
        "else:\n",
        "  print('NAO EXISTE')"
      ],
      "metadata": {
        "id": "tsHPHWVnNPqH"
      },
      "execution_count": null,
      "outputs": []
    },
    {
      "cell_type": "markdown",
      "source": [
        "exercicio 6"
      ],
      "metadata": {
        "id": "XVxveFuGOZ7K"
      }
    },
    {
      "cell_type": "code",
      "source": [
        "cadastro = {'43875349535': {}, '222': {}, '484924': {}}\n",
        "\n",
        "\n",
        "cpf = input('Digite um cpf para a verificação: ')\n",
        "if cpf in cadastro:\n",
        "  nome = input('Digite seu nome: ')\n",
        "  telefone = input('Digite seu telefone: ')\n",
        "  endereço = input('Digite seu endereço: ')\n",
        "\n",
        "\n",
        "  cadastro[cpf]['nome'] = nome\n",
        "  cadastro[cpf]['telefone'] = telefone\n",
        "  cadastro[cpf]['endereço'] = endereço\n",
        "\n",
        "  print(cadastro)\n",
        "else:\n",
        "  print('Não existe o CPF no dicionario')"
      ],
      "metadata": {
        "id": "raEVvDUAOdG7"
      },
      "execution_count": null,
      "outputs": []
    },
    {
      "cell_type": "markdown",
      "source": [
        "Atividade extra"
      ],
      "metadata": {
        "id": "6KmQhUTKvSMM"
      }
    },
    {
      "cell_type": "code",
      "source": [
        "estrutdados = {}\n",
        "\n",
        "\n",
        "\n",
        "for x in range(0,2):\n",
        "  nome = input('Digite o nome do aluno: ')\n",
        "  estrutdados[nome] = {}\n",
        "\n",
        "  nota1 = int(input('Digite sua primeira nota: '))\n",
        "  nota2 = int(input('Digite sua segunda nota: '))\n",
        "  nota3 = int(input('Digite sua terceira nota: '))\n",
        "  lista = []\n",
        "  estrutdados[nome]['notas'] = lista\n",
        "  lista.extend([nota1,nota2,nota3])\n",
        "\n",
        "  media = (nota1+nota2+nota3)/3\n",
        "  estrutdados[nome]['média'] = media\n",
        "\n",
        "  if (media>=6):\n",
        "    estrutdados[nome]['situacao'] = \"Aprovado\"\n",
        "  else:\n",
        "    estrutdados[nome]['situacao'] = \"Reprovado\"\n",
        "\n",
        "\n",
        "  print(estrutdados)"
      ],
      "metadata": {
        "id": "_waPIgK5wEQV"
      },
      "execution_count": null,
      "outputs": []
    }
  ]
}